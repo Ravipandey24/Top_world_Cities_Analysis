{
 "cells": [
  {
   "cell_type": "markdown",
   "id": "f2b2aacf",
   "metadata": {},
   "source": [
    "<h1>Analyzing Top Cities</h1>\n",
    "\n",
    "<hr></hr>\n",
    "<p>Importing Libraries</p>\n",
    "<ul>\n",
    "    <li>Numpy and Pandas for Data wrangling and analysis</li>\n",
    "    <li> Plotly for Data Visulalization</li>\n",
    "</ul>"
   ]
  },
  {
   "cell_type": "code",
   "execution_count": 5,
   "id": "adbac405",
   "metadata": {},
   "outputs": [],
   "source": [
    "import numpy as np\n",
    "import pandas as pd\n",
    "import plotly.express as px"
   ]
  },
  {
   "cell_type": "markdown",
   "id": "562c3e00",
   "metadata": {},
   "source": [
    "`Importing Data`"
   ]
  },
  {
   "cell_type": "code",
   "execution_count": 14,
   "id": "aab9a7c1",
   "metadata": {},
   "outputs": [],
   "source": [
    "df = pd.read_csv(\"data.csv\")"
   ]
  },
  {
   "cell_type": "markdown",
   "id": "ab9af58d",
   "metadata": {},
   "source": [
    "<div class=\"alert alert-block alert-warning\">\n",
    "<b>Empty Values:</b> Finding all the empty or dash(-) placed values\n",
    "</div>"
   ]
  },
  {
   "cell_type": "code",
   "execution_count": 7,
   "id": "25296f27",
   "metadata": {},
   "outputs": [
    {
     "data": {
      "text/html": [
       "<div>\n",
       "<style scoped>\n",
       "    .dataframe tbody tr th:only-of-type {\n",
       "        vertical-align: middle;\n",
       "    }\n",
       "\n",
       "    .dataframe tbody tr th {\n",
       "        vertical-align: top;\n",
       "    }\n",
       "\n",
       "    .dataframe thead th {\n",
       "        text-align: right;\n",
       "    }\n",
       "</style>\n",
       "<table border=\"1\" class=\"dataframe\">\n",
       "  <thead>\n",
       "    <tr style=\"text-align: right;\">\n",
       "      <th></th>\n",
       "      <th>City</th>\n",
       "      <th>Rank</th>\n",
       "      <th>Sunshine hours(City)</th>\n",
       "      <th>Cost of a bottle of water(City)</th>\n",
       "      <th>Obesity levels(Country)</th>\n",
       "      <th>Life expectancy(years) (Country)</th>\n",
       "      <th>Pollution(Index score) (City)</th>\n",
       "      <th>Annual avg. hours worked</th>\n",
       "      <th>Happiness levels(Country)</th>\n",
       "      <th>Outdoor activities(City)</th>\n",
       "      <th>Number of take out places(City)</th>\n",
       "      <th>Cost of a monthly gym membership(City)</th>\n",
       "    </tr>\n",
       "  </thead>\n",
       "  <tbody>\n",
       "    <tr>\n",
       "      <th>6</th>\n",
       "      <td>Fukuoka</td>\n",
       "      <td>7</td>\n",
       "      <td>2769</td>\n",
       "      <td>£0.78</td>\n",
       "      <td>4.30%</td>\n",
       "      <td>83.2</td>\n",
       "      <td>-</td>\n",
       "      <td>1644</td>\n",
       "      <td>5.87</td>\n",
       "      <td>35</td>\n",
       "      <td>539</td>\n",
       "      <td>£55.87</td>\n",
       "    </tr>\n",
       "    <tr>\n",
       "      <th>11</th>\n",
       "      <td>Beijing</td>\n",
       "      <td>12</td>\n",
       "      <td>2671</td>\n",
       "      <td>£0.26</td>\n",
       "      <td>6.20%</td>\n",
       "      <td>75.4</td>\n",
       "      <td>85.43</td>\n",
       "      <td>-</td>\n",
       "      <td>5.12</td>\n",
       "      <td>223</td>\n",
       "      <td>261</td>\n",
       "      <td>£38.62</td>\n",
       "    </tr>\n",
       "    <tr>\n",
       "      <th>12</th>\n",
       "      <td>Bangkok</td>\n",
       "      <td>13</td>\n",
       "      <td>2624</td>\n",
       "      <td>£0.22</td>\n",
       "      <td>10.00%</td>\n",
       "      <td>74.1</td>\n",
       "      <td>76.64</td>\n",
       "      <td>-</td>\n",
       "      <td>5.99</td>\n",
       "      <td>377</td>\n",
       "      <td>1796</td>\n",
       "      <td>£50.03</td>\n",
       "    </tr>\n",
       "    <tr>\n",
       "      <th>13</th>\n",
       "      <td>Buenos Aires</td>\n",
       "      <td>14</td>\n",
       "      <td>2525</td>\n",
       "      <td>£0.57</td>\n",
       "      <td>28.30%</td>\n",
       "      <td>75.9</td>\n",
       "      <td>52.64</td>\n",
       "      <td>-</td>\n",
       "      <td>5.97</td>\n",
       "      <td>246</td>\n",
       "      <td>1435</td>\n",
       "      <td>£22.45</td>\n",
       "    </tr>\n",
       "    <tr>\n",
       "      <th>16</th>\n",
       "      <td>Jakarta</td>\n",
       "      <td>17</td>\n",
       "      <td>2983</td>\n",
       "      <td>£0.21</td>\n",
       "      <td>6.90%</td>\n",
       "      <td>68.5</td>\n",
       "      <td>84.39</td>\n",
       "      <td>-</td>\n",
       "      <td>5.28</td>\n",
       "      <td>114</td>\n",
       "      <td>833</td>\n",
       "      <td>£29.94</td>\n",
       "    </tr>\n",
       "    <tr>\n",
       "      <th>19</th>\n",
       "      <td>Geneva</td>\n",
       "      <td>20</td>\n",
       "      <td>-</td>\n",
       "      <td>£2.62</td>\n",
       "      <td>19.50%</td>\n",
       "      <td>82.6</td>\n",
       "      <td>27.25</td>\n",
       "      <td>1557</td>\n",
       "      <td>7.56</td>\n",
       "      <td>44</td>\n",
       "      <td>444</td>\n",
       "      <td>£70.00</td>\n",
       "    </tr>\n",
       "    <tr>\n",
       "      <th>22</th>\n",
       "      <td>Cairo</td>\n",
       "      <td>23</td>\n",
       "      <td>3542</td>\n",
       "      <td>£0.16</td>\n",
       "      <td>32.00%</td>\n",
       "      <td>70.7</td>\n",
       "      <td>91.74</td>\n",
       "      <td>-</td>\n",
       "      <td>4.15</td>\n",
       "      <td>323</td>\n",
       "      <td>250</td>\n",
       "      <td>£23.25</td>\n",
       "    </tr>\n",
       "    <tr>\n",
       "      <th>23</th>\n",
       "      <td>Taipei</td>\n",
       "      <td>24</td>\n",
       "      <td>1405</td>\n",
       "      <td>£0.57</td>\n",
       "      <td>6.20%</td>\n",
       "      <td>75.4</td>\n",
       "      <td>49.32</td>\n",
       "      <td>-</td>\n",
       "      <td>5.12</td>\n",
       "      <td>134</td>\n",
       "      <td>717</td>\n",
       "      <td>£34.76</td>\n",
       "    </tr>\n",
       "    <tr>\n",
       "      <th>25</th>\n",
       "      <td>Mumbai</td>\n",
       "      <td>26</td>\n",
       "      <td>2584</td>\n",
       "      <td>£0.15</td>\n",
       "      <td>3.90%</td>\n",
       "      <td>67.3</td>\n",
       "      <td>82.84</td>\n",
       "      <td>-</td>\n",
       "      <td>3.57</td>\n",
       "      <td>187</td>\n",
       "      <td>1183</td>\n",
       "      <td>£19.54</td>\n",
       "    </tr>\n",
       "    <tr>\n",
       "      <th>30</th>\n",
       "      <td>Hong Kong</td>\n",
       "      <td>31</td>\n",
       "      <td>1836</td>\n",
       "      <td>£0.75</td>\n",
       "      <td>6.20%</td>\n",
       "      <td>75.4</td>\n",
       "      <td>67.46</td>\n",
       "      <td>-</td>\n",
       "      <td>5.51</td>\n",
       "      <td>277</td>\n",
       "      <td>1257</td>\n",
       "      <td>£57.95</td>\n",
       "    </tr>\n",
       "    <tr>\n",
       "      <th>31</th>\n",
       "      <td>Shanghai</td>\n",
       "      <td>32</td>\n",
       "      <td>1776</td>\n",
       "      <td>£0.29</td>\n",
       "      <td>6.20%</td>\n",
       "      <td>75.4</td>\n",
       "      <td>77.40</td>\n",
       "      <td>-</td>\n",
       "      <td>5.12</td>\n",
       "      <td>108</td>\n",
       "      <td>346</td>\n",
       "      <td>£44.68</td>\n",
       "    </tr>\n",
       "    <tr>\n",
       "      <th>35</th>\n",
       "      <td>Sao Paulo</td>\n",
       "      <td>36</td>\n",
       "      <td>2003</td>\n",
       "      <td>£0.44</td>\n",
       "      <td>22.10%</td>\n",
       "      <td>73.9</td>\n",
       "      <td>79.78</td>\n",
       "      <td>-</td>\n",
       "      <td>6.37</td>\n",
       "      <td>158</td>\n",
       "      <td>3355</td>\n",
       "      <td>£16.07</td>\n",
       "    </tr>\n",
       "    <tr>\n",
       "      <th>38</th>\n",
       "      <td>Johannesburg</td>\n",
       "      <td>39</td>\n",
       "      <td>3124</td>\n",
       "      <td>£0.59</td>\n",
       "      <td>28.30%</td>\n",
       "      <td>56.3</td>\n",
       "      <td>61.83</td>\n",
       "      <td>-</td>\n",
       "      <td>4.81</td>\n",
       "      <td>194</td>\n",
       "      <td>492</td>\n",
       "      <td>£24.28</td>\n",
       "    </tr>\n",
       "  </tbody>\n",
       "</table>\n",
       "</div>"
      ],
      "text/plain": [
       "            City  Rank Sunshine hours(City) Cost of a bottle of water(City)  \\\n",
       "6        Fukuoka     7                 2769                           £0.78   \n",
       "11       Beijing    12                 2671                           £0.26   \n",
       "12       Bangkok    13                 2624                           £0.22   \n",
       "13  Buenos Aires    14                 2525                           £0.57   \n",
       "16       Jakarta    17                 2983                           £0.21   \n",
       "19        Geneva    20                    -                           £2.62   \n",
       "22         Cairo    23                 3542                           £0.16   \n",
       "23        Taipei    24                 1405                           £0.57   \n",
       "25        Mumbai    26                 2584                           £0.15   \n",
       "30     Hong Kong    31                 1836                           £0.75   \n",
       "31      Shanghai    32                 1776                           £0.29   \n",
       "35     Sao Paulo    36                 2003                           £0.44   \n",
       "38  Johannesburg    39                 3124                           £0.59   \n",
       "\n",
       "   Obesity levels(Country)  Life expectancy(years) (Country)  \\\n",
       "6                    4.30%                              83.2   \n",
       "11                   6.20%                              75.4   \n",
       "12                  10.00%                              74.1   \n",
       "13                  28.30%                              75.9   \n",
       "16                   6.90%                              68.5   \n",
       "19                  19.50%                              82.6   \n",
       "22                  32.00%                              70.7   \n",
       "23                   6.20%                              75.4   \n",
       "25                   3.90%                              67.3   \n",
       "30                   6.20%                              75.4   \n",
       "31                   6.20%                              75.4   \n",
       "35                  22.10%                              73.9   \n",
       "38                  28.30%                              56.3   \n",
       "\n",
       "   Pollution(Index score) (City) Annual avg. hours worked  \\\n",
       "6                              -                     1644   \n",
       "11                         85.43                        -   \n",
       "12                         76.64                        -   \n",
       "13                         52.64                        -   \n",
       "16                         84.39                        -   \n",
       "19                         27.25                     1557   \n",
       "22                         91.74                        -   \n",
       "23                         49.32                        -   \n",
       "25                         82.84                        -   \n",
       "30                         67.46                        -   \n",
       "31                         77.40                        -   \n",
       "35                         79.78                        -   \n",
       "38                         61.83                        -   \n",
       "\n",
       "    Happiness levels(Country)  Outdoor activities(City)  \\\n",
       "6                        5.87                        35   \n",
       "11                       5.12                       223   \n",
       "12                       5.99                       377   \n",
       "13                       5.97                       246   \n",
       "16                       5.28                       114   \n",
       "19                       7.56                        44   \n",
       "22                       4.15                       323   \n",
       "23                       5.12                       134   \n",
       "25                       3.57                       187   \n",
       "30                       5.51                       277   \n",
       "31                       5.12                       108   \n",
       "35                       6.37                       158   \n",
       "38                       4.81                       194   \n",
       "\n",
       "    Number of take out places(City) Cost of a monthly gym membership(City)  \n",
       "6                               539                                 £55.87  \n",
       "11                              261                                 £38.62  \n",
       "12                             1796                                 £50.03  \n",
       "13                             1435                                 £22.45  \n",
       "16                              833                                 £29.94  \n",
       "19                              444                                 £70.00  \n",
       "22                              250                                 £23.25  \n",
       "23                              717                                 £34.76  \n",
       "25                             1183                                 £19.54  \n",
       "30                             1257                                 £57.95  \n",
       "31                              346                                 £44.68  \n",
       "35                             3355                                 £16.07  \n",
       "38                              492                                 £24.28  "
      ]
     },
     "execution_count": 7,
     "metadata": {},
     "output_type": "execute_result"
    }
   ],
   "source": [
    "empty_values = df[df.eq(\"-\").any(1)]\n",
    "empty_values"
   ]
  },
  {
   "cell_type": "markdown",
   "id": "248c0186",
   "metadata": {},
   "source": [
    "`Replacing dash with NaN values`"
   ]
  },
  {
   "cell_type": "code",
   "execution_count": 15,
   "id": "429ca058",
   "metadata": {},
   "outputs": [
    {
     "data": {
      "text/html": [
       "<div>\n",
       "<style scoped>\n",
       "    .dataframe tbody tr th:only-of-type {\n",
       "        vertical-align: middle;\n",
       "    }\n",
       "\n",
       "    .dataframe tbody tr th {\n",
       "        vertical-align: top;\n",
       "    }\n",
       "\n",
       "    .dataframe thead th {\n",
       "        text-align: right;\n",
       "    }\n",
       "</style>\n",
       "<table border=\"1\" class=\"dataframe\">\n",
       "  <thead>\n",
       "    <tr style=\"text-align: right;\">\n",
       "      <th></th>\n",
       "      <th>City</th>\n",
       "      <th>Rank</th>\n",
       "      <th>Sunshine hours(City)</th>\n",
       "      <th>Cost of a bottle of water(City)</th>\n",
       "      <th>Obesity levels(Country)</th>\n",
       "      <th>Life expectancy(years) (Country)</th>\n",
       "      <th>Pollution(Index score) (City)</th>\n",
       "      <th>Annual avg. hours worked</th>\n",
       "      <th>Happiness levels(Country)</th>\n",
       "      <th>Outdoor activities(City)</th>\n",
       "      <th>Number of take out places(City)</th>\n",
       "      <th>Cost of a monthly gym membership(City)</th>\n",
       "    </tr>\n",
       "  </thead>\n",
       "  <tbody>\n",
       "    <tr>\n",
       "      <th>0</th>\n",
       "      <td>Amsterdam</td>\n",
       "      <td>1</td>\n",
       "      <td>1858</td>\n",
       "      <td>£1.92</td>\n",
       "      <td>20.40%</td>\n",
       "      <td>81.2</td>\n",
       "      <td>30.93</td>\n",
       "      <td>1434</td>\n",
       "      <td>7.44</td>\n",
       "      <td>422</td>\n",
       "      <td>1048</td>\n",
       "      <td>£34.90</td>\n",
       "    </tr>\n",
       "    <tr>\n",
       "      <th>1</th>\n",
       "      <td>Sydney</td>\n",
       "      <td>2</td>\n",
       "      <td>2636</td>\n",
       "      <td>£1.48</td>\n",
       "      <td>29.00%</td>\n",
       "      <td>82.1</td>\n",
       "      <td>26.86</td>\n",
       "      <td>1712</td>\n",
       "      <td>7.22</td>\n",
       "      <td>406</td>\n",
       "      <td>1103</td>\n",
       "      <td>£41.66</td>\n",
       "    </tr>\n",
       "    <tr>\n",
       "      <th>2</th>\n",
       "      <td>Vienna</td>\n",
       "      <td>3</td>\n",
       "      <td>1884</td>\n",
       "      <td>£1.94</td>\n",
       "      <td>20.10%</td>\n",
       "      <td>81.0</td>\n",
       "      <td>17.33</td>\n",
       "      <td>1501</td>\n",
       "      <td>7.29</td>\n",
       "      <td>132</td>\n",
       "      <td>1008</td>\n",
       "      <td>£25.74</td>\n",
       "    </tr>\n",
       "    <tr>\n",
       "      <th>3</th>\n",
       "      <td>Stockholm</td>\n",
       "      <td>4</td>\n",
       "      <td>1821</td>\n",
       "      <td>£1.72</td>\n",
       "      <td>20.60%</td>\n",
       "      <td>81.8</td>\n",
       "      <td>19.63</td>\n",
       "      <td>1452</td>\n",
       "      <td>7.35</td>\n",
       "      <td>129</td>\n",
       "      <td>598</td>\n",
       "      <td>£37.31</td>\n",
       "    </tr>\n",
       "    <tr>\n",
       "      <th>4</th>\n",
       "      <td>Copenhagen</td>\n",
       "      <td>5</td>\n",
       "      <td>1630</td>\n",
       "      <td>£2.19</td>\n",
       "      <td>19.70%</td>\n",
       "      <td>79.8</td>\n",
       "      <td>21.24</td>\n",
       "      <td>1380</td>\n",
       "      <td>7.64</td>\n",
       "      <td>154</td>\n",
       "      <td>523</td>\n",
       "      <td>£32.53</td>\n",
       "    </tr>\n",
       "    <tr>\n",
       "      <th>5</th>\n",
       "      <td>Helsinki</td>\n",
       "      <td>6</td>\n",
       "      <td>1662</td>\n",
       "      <td>£1.60</td>\n",
       "      <td>22.20%</td>\n",
       "      <td>80.4</td>\n",
       "      <td>13.08</td>\n",
       "      <td>1540</td>\n",
       "      <td>7.80</td>\n",
       "      <td>113</td>\n",
       "      <td>309</td>\n",
       "      <td>£35.23</td>\n",
       "    </tr>\n",
       "    <tr>\n",
       "      <th>6</th>\n",
       "      <td>Fukuoka</td>\n",
       "      <td>7</td>\n",
       "      <td>2769</td>\n",
       "      <td>£0.78</td>\n",
       "      <td>4.30%</td>\n",
       "      <td>83.2</td>\n",
       "      <td>NaN</td>\n",
       "      <td>1644</td>\n",
       "      <td>5.87</td>\n",
       "      <td>35</td>\n",
       "      <td>539</td>\n",
       "      <td>£55.87</td>\n",
       "    </tr>\n",
       "    <tr>\n",
       "      <th>7</th>\n",
       "      <td>Berlin</td>\n",
       "      <td>8</td>\n",
       "      <td>1626</td>\n",
       "      <td>£1.55</td>\n",
       "      <td>22.30%</td>\n",
       "      <td>80.6</td>\n",
       "      <td>39.41</td>\n",
       "      <td>1386</td>\n",
       "      <td>7.07</td>\n",
       "      <td>254</td>\n",
       "      <td>1729</td>\n",
       "      <td>£26.11</td>\n",
       "    </tr>\n",
       "    <tr>\n",
       "      <th>8</th>\n",
       "      <td>Barcelona</td>\n",
       "      <td>9</td>\n",
       "      <td>2591</td>\n",
       "      <td>£1.19</td>\n",
       "      <td>23.80%</td>\n",
       "      <td>82.2</td>\n",
       "      <td>65.19</td>\n",
       "      <td>1686</td>\n",
       "      <td>6.40</td>\n",
       "      <td>585</td>\n",
       "      <td>2344</td>\n",
       "      <td>£37.80</td>\n",
       "    </tr>\n",
       "    <tr>\n",
       "      <th>9</th>\n",
       "      <td>Vancouver</td>\n",
       "      <td>10</td>\n",
       "      <td>1938</td>\n",
       "      <td>£1.08</td>\n",
       "      <td>29.40%</td>\n",
       "      <td>81.7</td>\n",
       "      <td>24.26</td>\n",
       "      <td>1670</td>\n",
       "      <td>7.23</td>\n",
       "      <td>218</td>\n",
       "      <td>788</td>\n",
       "      <td>£31.04</td>\n",
       "    </tr>\n",
       "  </tbody>\n",
       "</table>\n",
       "</div>"
      ],
      "text/plain": [
       "         City  Rank Sunshine hours(City) Cost of a bottle of water(City)  \\\n",
       "0   Amsterdam     1                 1858                           £1.92   \n",
       "1      Sydney     2                 2636                           £1.48   \n",
       "2      Vienna     3                 1884                           £1.94   \n",
       "3   Stockholm     4                 1821                           £1.72   \n",
       "4  Copenhagen     5                 1630                           £2.19   \n",
       "5    Helsinki     6                 1662                           £1.60   \n",
       "6     Fukuoka     7                 2769                           £0.78   \n",
       "7      Berlin     8                 1626                           £1.55   \n",
       "8   Barcelona     9                 2591                           £1.19   \n",
       "9   Vancouver    10                 1938                           £1.08   \n",
       "\n",
       "  Obesity levels(Country)  Life expectancy(years) (Country)  \\\n",
       "0                  20.40%                              81.2   \n",
       "1                  29.00%                              82.1   \n",
       "2                  20.10%                              81.0   \n",
       "3                  20.60%                              81.8   \n",
       "4                  19.70%                              79.8   \n",
       "5                  22.20%                              80.4   \n",
       "6                   4.30%                              83.2   \n",
       "7                  22.30%                              80.6   \n",
       "8                  23.80%                              82.2   \n",
       "9                  29.40%                              81.7   \n",
       "\n",
       "  Pollution(Index score) (City) Annual avg. hours worked  \\\n",
       "0                         30.93                     1434   \n",
       "1                         26.86                     1712   \n",
       "2                         17.33                     1501   \n",
       "3                         19.63                     1452   \n",
       "4                         21.24                     1380   \n",
       "5                         13.08                     1540   \n",
       "6                           NaN                     1644   \n",
       "7                         39.41                     1386   \n",
       "8                         65.19                     1686   \n",
       "9                         24.26                     1670   \n",
       "\n",
       "   Happiness levels(Country)  Outdoor activities(City)  \\\n",
       "0                       7.44                       422   \n",
       "1                       7.22                       406   \n",
       "2                       7.29                       132   \n",
       "3                       7.35                       129   \n",
       "4                       7.64                       154   \n",
       "5                       7.80                       113   \n",
       "6                       5.87                        35   \n",
       "7                       7.07                       254   \n",
       "8                       6.40                       585   \n",
       "9                       7.23                       218   \n",
       "\n",
       "   Number of take out places(City) Cost of a monthly gym membership(City)  \n",
       "0                             1048                                 £34.90  \n",
       "1                             1103                                 £41.66  \n",
       "2                             1008                                 £25.74  \n",
       "3                              598                                 £37.31  \n",
       "4                              523                                 £32.53  \n",
       "5                              309                                 £35.23  \n",
       "6                              539                                 £55.87  \n",
       "7                             1729                                 £26.11  \n",
       "8                             2344                                 £37.80  \n",
       "9                              788                                 £31.04  "
      ]
     },
     "execution_count": 15,
     "metadata": {},
     "output_type": "execute_result"
    }
   ],
   "source": [
    "df.replace(\"-\", np.nan, inplace=True)\n",
    "df.head(10)"
   ]
  },
  {
   "cell_type": "markdown",
   "id": "8125a709",
   "metadata": {},
   "source": [
    "### Data Wrangling\n",
    "\n",
    "Dealing with NaN values :-\n",
    "- There are only three columns with NaN values i.e.\n",
    "    - Annual avg. hours worked\n",
    "    - Sunshine hours(City)\n",
    "    - Pollution(Index score) (City)\n",
    "\n",
    "- In this approach, I will replace the NaN values with column mean values.\n",
    "    "
   ]
  },
  {
   "cell_type": "markdown",
   "id": "492c33c6",
   "metadata": {},
   "source": [
    "*Calculating mean of the columns*"
   ]
  },
  {
   "cell_type": "code",
   "execution_count": 16,
   "id": "13a71903",
   "metadata": {},
   "outputs": [
    {
     "name": "stdout",
     "output_type": "stream",
     "text": [
      "1672.909090909091 2245.860465116279 51.12232558139535\n"
     ]
    }
   ],
   "source": [
    "working_hours_mean = pd.to_numeric(df[\"Annual avg. hours worked\"]).mean()\n",
    "sunshine_hours_mean = pd.to_numeric(df[\"Sunshine hours(City)\"]).mean()\n",
    "pollution_index_mean = pd.to_numeric(df[\"Pollution(Index score) (City)\"]).mean()\n",
    "print(working_hours_mean, sunshine_hours_mean, pollution_index_mean)\n"
   ]
  },
  {
   "cell_type": "markdown",
   "id": "e8830f10",
   "metadata": {},
   "source": [
    "*Replacing NaN values with Column mean values (rounding off the mean)*"
   ]
  },
  {
   "cell_type": "code",
   "execution_count": 17,
   "id": "8e571e6e",
   "metadata": {},
   "outputs": [],
   "source": [
    "df[\"Annual avg. hours worked\"].replace(np.nan, round(working_hours_mean), inplace=True)\n",
    "df[\"Sunshine hours(City)\"].replace(np.nan, round(sunshine_hours_mean), inplace=True)\n",
    "df[\"Pollution(Index score) (City)\"].replace(np.nan, round(pollution_index_mean), inplace=True)"
   ]
  },
  {
   "cell_type": "code",
   "execution_count": 18,
   "id": "bc29605f",
   "metadata": {},
   "outputs": [
    {
     "data": {
      "text/plain": [
       "False"
      ]
     },
     "execution_count": 18,
     "metadata": {},
     "output_type": "execute_result"
    }
   ],
   "source": [
    "df.isnull().values.any()"
   ]
  },
  {
   "cell_type": "markdown",
   "id": "21f3eb33",
   "metadata": {},
   "source": [
    "<div class=\"alert alert-block alert-success\">\n",
    "No NaN values left in the Dataset!\n",
    "</div>"
   ]
  },
  {
   "cell_type": "markdown",
   "id": "19607590",
   "metadata": {},
   "source": [
    "Working hours is usually considered Annually, therefore `I will convert Annual avg. hours worked to Weekly avg. hours worked`"
   ]
  },
  {
   "cell_type": "code",
   "execution_count": 19,
   "id": "20705b3d",
   "metadata": {
    "scrolled": false
   },
   "outputs": [],
   "source": [
    "df[\"Annual avg. hours worked\"] = round(pd.to_numeric(df[\"Annual avg. hours worked\"]) / 52)\n",
    "df[\"Annual avg. hours worked\"] = df[\"Annual avg. hours worked\"].astype(\"int64\")\n",
    "df.rename(columns={\"Annual avg. hours worked\": \"Weekly avg. hours worked\"}, inplace=True)"
   ]
  },
  {
   "cell_type": "code",
   "execution_count": 43,
   "id": "4d530006",
   "metadata": {},
   "outputs": [
    {
     "data": {
      "text/html": [
       "<div>\n",
       "<style scoped>\n",
       "    .dataframe tbody tr th:only-of-type {\n",
       "        vertical-align: middle;\n",
       "    }\n",
       "\n",
       "    .dataframe tbody tr th {\n",
       "        vertical-align: top;\n",
       "    }\n",
       "\n",
       "    .dataframe thead th {\n",
       "        text-align: right;\n",
       "    }\n",
       "</style>\n",
       "<table border=\"1\" class=\"dataframe\">\n",
       "  <thead>\n",
       "    <tr style=\"text-align: right;\">\n",
       "      <th></th>\n",
       "      <th>City</th>\n",
       "      <th>Rank</th>\n",
       "      <th>Sunshine hours(City)</th>\n",
       "      <th>Cost of a bottle of water(City)</th>\n",
       "      <th>Obesity levels(Country)</th>\n",
       "      <th>Life expectancy(years) (Country)</th>\n",
       "      <th>Pollution(Index score) (City)</th>\n",
       "      <th>Weekly avg. hours worked</th>\n",
       "      <th>Happiness levels(Country)</th>\n",
       "      <th>Outdoor activities(City)</th>\n",
       "      <th>Number of take out places(City)</th>\n",
       "      <th>Cost of a monthly gym membership(City)</th>\n",
       "    </tr>\n",
       "  </thead>\n",
       "  <tbody>\n",
       "    <tr>\n",
       "      <th>0</th>\n",
       "      <td>Amsterdam</td>\n",
       "      <td>1</td>\n",
       "      <td>1858</td>\n",
       "      <td>£1.92</td>\n",
       "      <td>20.40%</td>\n",
       "      <td>81.2</td>\n",
       "      <td>30.93</td>\n",
       "      <td>28</td>\n",
       "      <td>7.44</td>\n",
       "      <td>422</td>\n",
       "      <td>1048</td>\n",
       "      <td>£34.90</td>\n",
       "    </tr>\n",
       "    <tr>\n",
       "      <th>1</th>\n",
       "      <td>Sydney</td>\n",
       "      <td>2</td>\n",
       "      <td>2636</td>\n",
       "      <td>£1.48</td>\n",
       "      <td>29.00%</td>\n",
       "      <td>82.1</td>\n",
       "      <td>26.86</td>\n",
       "      <td>33</td>\n",
       "      <td>7.22</td>\n",
       "      <td>406</td>\n",
       "      <td>1103</td>\n",
       "      <td>£41.66</td>\n",
       "    </tr>\n",
       "    <tr>\n",
       "      <th>2</th>\n",
       "      <td>Vienna</td>\n",
       "      <td>3</td>\n",
       "      <td>1884</td>\n",
       "      <td>£1.94</td>\n",
       "      <td>20.10%</td>\n",
       "      <td>81.0</td>\n",
       "      <td>17.33</td>\n",
       "      <td>29</td>\n",
       "      <td>7.29</td>\n",
       "      <td>132</td>\n",
       "      <td>1008</td>\n",
       "      <td>£25.74</td>\n",
       "    </tr>\n",
       "    <tr>\n",
       "      <th>3</th>\n",
       "      <td>Stockholm</td>\n",
       "      <td>4</td>\n",
       "      <td>1821</td>\n",
       "      <td>£1.72</td>\n",
       "      <td>20.60%</td>\n",
       "      <td>81.8</td>\n",
       "      <td>19.63</td>\n",
       "      <td>28</td>\n",
       "      <td>7.35</td>\n",
       "      <td>129</td>\n",
       "      <td>598</td>\n",
       "      <td>£37.31</td>\n",
       "    </tr>\n",
       "    <tr>\n",
       "      <th>4</th>\n",
       "      <td>Copenhagen</td>\n",
       "      <td>5</td>\n",
       "      <td>1630</td>\n",
       "      <td>£2.19</td>\n",
       "      <td>19.70%</td>\n",
       "      <td>79.8</td>\n",
       "      <td>21.24</td>\n",
       "      <td>27</td>\n",
       "      <td>7.64</td>\n",
       "      <td>154</td>\n",
       "      <td>523</td>\n",
       "      <td>£32.53</td>\n",
       "    </tr>\n",
       "    <tr>\n",
       "      <th>5</th>\n",
       "      <td>Helsinki</td>\n",
       "      <td>6</td>\n",
       "      <td>1662</td>\n",
       "      <td>£1.60</td>\n",
       "      <td>22.20%</td>\n",
       "      <td>80.4</td>\n",
       "      <td>13.08</td>\n",
       "      <td>30</td>\n",
       "      <td>7.80</td>\n",
       "      <td>113</td>\n",
       "      <td>309</td>\n",
       "      <td>£35.23</td>\n",
       "    </tr>\n",
       "    <tr>\n",
       "      <th>6</th>\n",
       "      <td>Fukuoka</td>\n",
       "      <td>7</td>\n",
       "      <td>2769</td>\n",
       "      <td>£0.78</td>\n",
       "      <td>4.30%</td>\n",
       "      <td>83.2</td>\n",
       "      <td>51</td>\n",
       "      <td>32</td>\n",
       "      <td>5.87</td>\n",
       "      <td>35</td>\n",
       "      <td>539</td>\n",
       "      <td>£55.87</td>\n",
       "    </tr>\n",
       "    <tr>\n",
       "      <th>7</th>\n",
       "      <td>Berlin</td>\n",
       "      <td>8</td>\n",
       "      <td>1626</td>\n",
       "      <td>£1.55</td>\n",
       "      <td>22.30%</td>\n",
       "      <td>80.6</td>\n",
       "      <td>39.41</td>\n",
       "      <td>27</td>\n",
       "      <td>7.07</td>\n",
       "      <td>254</td>\n",
       "      <td>1729</td>\n",
       "      <td>£26.11</td>\n",
       "    </tr>\n",
       "    <tr>\n",
       "      <th>8</th>\n",
       "      <td>Barcelona</td>\n",
       "      <td>9</td>\n",
       "      <td>2591</td>\n",
       "      <td>£1.19</td>\n",
       "      <td>23.80%</td>\n",
       "      <td>82.2</td>\n",
       "      <td>65.19</td>\n",
       "      <td>32</td>\n",
       "      <td>6.40</td>\n",
       "      <td>585</td>\n",
       "      <td>2344</td>\n",
       "      <td>£37.80</td>\n",
       "    </tr>\n",
       "    <tr>\n",
       "      <th>9</th>\n",
       "      <td>Vancouver</td>\n",
       "      <td>10</td>\n",
       "      <td>1938</td>\n",
       "      <td>£1.08</td>\n",
       "      <td>29.40%</td>\n",
       "      <td>81.7</td>\n",
       "      <td>24.26</td>\n",
       "      <td>32</td>\n",
       "      <td>7.23</td>\n",
       "      <td>218</td>\n",
       "      <td>788</td>\n",
       "      <td>£31.04</td>\n",
       "    </tr>\n",
       "  </tbody>\n",
       "</table>\n",
       "</div>"
      ],
      "text/plain": [
       "         City  Rank Sunshine hours(City) Cost of a bottle of water(City)  \\\n",
       "0   Amsterdam     1                 1858                           £1.92   \n",
       "1      Sydney     2                 2636                           £1.48   \n",
       "2      Vienna     3                 1884                           £1.94   \n",
       "3   Stockholm     4                 1821                           £1.72   \n",
       "4  Copenhagen     5                 1630                           £2.19   \n",
       "5    Helsinki     6                 1662                           £1.60   \n",
       "6     Fukuoka     7                 2769                           £0.78   \n",
       "7      Berlin     8                 1626                           £1.55   \n",
       "8   Barcelona     9                 2591                           £1.19   \n",
       "9   Vancouver    10                 1938                           £1.08   \n",
       "\n",
       "  Obesity levels(Country)  Life expectancy(years) (Country)  \\\n",
       "0                  20.40%                              81.2   \n",
       "1                  29.00%                              82.1   \n",
       "2                  20.10%                              81.0   \n",
       "3                  20.60%                              81.8   \n",
       "4                  19.70%                              79.8   \n",
       "5                  22.20%                              80.4   \n",
       "6                   4.30%                              83.2   \n",
       "7                  22.30%                              80.6   \n",
       "8                  23.80%                              82.2   \n",
       "9                  29.40%                              81.7   \n",
       "\n",
       "  Pollution(Index score) (City)  Weekly avg. hours worked  \\\n",
       "0                         30.93                        28   \n",
       "1                         26.86                        33   \n",
       "2                         17.33                        29   \n",
       "3                         19.63                        28   \n",
       "4                         21.24                        27   \n",
       "5                         13.08                        30   \n",
       "6                            51                        32   \n",
       "7                         39.41                        27   \n",
       "8                         65.19                        32   \n",
       "9                         24.26                        32   \n",
       "\n",
       "   Happiness levels(Country)  Outdoor activities(City)  \\\n",
       "0                       7.44                       422   \n",
       "1                       7.22                       406   \n",
       "2                       7.29                       132   \n",
       "3                       7.35                       129   \n",
       "4                       7.64                       154   \n",
       "5                       7.80                       113   \n",
       "6                       5.87                        35   \n",
       "7                       7.07                       254   \n",
       "8                       6.40                       585   \n",
       "9                       7.23                       218   \n",
       "\n",
       "   Number of take out places(City) Cost of a monthly gym membership(City)  \n",
       "0                             1048                                 £34.90  \n",
       "1                             1103                                 £41.66  \n",
       "2                             1008                                 £25.74  \n",
       "3                              598                                 £37.31  \n",
       "4                              523                                 £32.53  \n",
       "5                              309                                 £35.23  \n",
       "6                              539                                 £55.87  \n",
       "7                             1729                                 £26.11  \n",
       "8                             2344                                 £37.80  \n",
       "9                              788                                 £31.04  "
      ]
     },
     "execution_count": 43,
     "metadata": {},
     "output_type": "execute_result"
    }
   ],
   "source": [
    "df.head(10)"
   ]
  },
  {
   "cell_type": "markdown",
   "id": "9994a6bc",
   "metadata": {},
   "source": [
    "### Data Visualization"
   ]
  },
  {
   "cell_type": "markdown",
   "id": "49a7e7c4",
   "metadata": {},
   "source": [
    "*Let's check if there's some proper relationship between city rankings and Happiness Level using Line Graph*"
   ]
  },
  {
   "cell_type": "code",
   "execution_count": 26,
   "id": "ec50575f",
   "metadata": {},
   "outputs": [
    {
     "data": {
      "application/vnd.plotly.v1+json": {
       "config": {
        "plotlyServerURL": "https://plot.ly"
       },
       "data": [
        {
         "customdata": [
          [
           "Amsterdam"
          ],
          [
           "Sydney"
          ],
          [
           "Vienna"
          ],
          [
           "Stockholm"
          ],
          [
           "Copenhagen"
          ],
          [
           "Helsinki"
          ],
          [
           "Fukuoka"
          ],
          [
           "Berlin"
          ],
          [
           "Barcelona"
          ],
          [
           "Vancouver"
          ],
          [
           "Melbourne"
          ],
          [
           "Beijing"
          ],
          [
           "Bangkok"
          ],
          [
           "Buenos Aires"
          ],
          [
           "Toronto"
          ],
          [
           "Madrid"
          ],
          [
           "Jakarta"
          ],
          [
           "Seoul"
          ],
          [
           "Frankfurt"
          ],
          [
           "Geneva"
          ],
          [
           "Tel Aviv"
          ],
          [
           "Istanbul"
          ],
          [
           "Cairo"
          ],
          [
           "Taipei"
          ],
          [
           "Los Angeles"
          ],
          [
           "Mumbai"
          ],
          [
           "Boston"
          ],
          [
           "Dublin"
          ],
          [
           "Tokyo"
          ],
          [
           "Chicago"
          ],
          [
           "Hong Kong"
          ],
          [
           "Shanghai"
          ],
          [
           "Brussels"
          ],
          [
           "San Francisco"
          ],
          [
           "Paris"
          ],
          [
           "Sao Paulo"
          ],
          [
           "Zurich"
          ],
          [
           "London"
          ],
          [
           "Johannesburg"
          ],
          [
           "Milan"
          ],
          [
           "Washington, D.C."
          ],
          [
           "New York"
          ],
          [
           "Moscow"
          ],
          [
           "Mexico City"
          ]
         ],
         "hovertemplate": "Rank=%{x}<br>Happiness levels(Country)=%{y}<br>City=%{customdata[0]}<extra></extra>",
         "legendgroup": "",
         "line": {
          "color": "#636efa",
          "dash": "solid"
         },
         "marker": {
          "symbol": "circle"
         },
         "mode": "lines",
         "name": "",
         "orientation": "v",
         "showlegend": false,
         "type": "scatter",
         "x": [
          1,
          2,
          3,
          4,
          5,
          6,
          7,
          8,
          9,
          10,
          11,
          12,
          13,
          14,
          15,
          16,
          17,
          18,
          19,
          20,
          21,
          22,
          23,
          24,
          25,
          26,
          27,
          28,
          29,
          30,
          31,
          32,
          33,
          34,
          35,
          36,
          37,
          38,
          39,
          40,
          41,
          42,
          43,
          44
         ],
         "xaxis": "x",
         "y": [
          7.44,
          7.22,
          7.29,
          7.35,
          7.64,
          7.8,
          5.87,
          7.07,
          6.4,
          7.23,
          7.22,
          5.12,
          5.99,
          5.97,
          7.23,
          6.4,
          5.28,
          5.87,
          7.07,
          7.56,
          7.12,
          5.13,
          4.15,
          5.12,
          6.94,
          3.57,
          6.94,
          7.09,
          5.87,
          6.94,
          5.51,
          5.12,
          6.86,
          6.94,
          6.66,
          6.37,
          7.56,
          7.16,
          4.81,
          6.38,
          6.94,
          6.94,
          5.54,
          6.46
         ],
         "yaxis": "y"
        }
       ],
       "layout": {
        "legend": {
         "tracegroupgap": 0
        },
        "margin": {
         "t": 60
        },
        "template": {
         "data": {
          "bar": [
           {
            "error_x": {
             "color": "#2a3f5f"
            },
            "error_y": {
             "color": "#2a3f5f"
            },
            "marker": {
             "line": {
              "color": "#E5ECF6",
              "width": 0.5
             },
             "pattern": {
              "fillmode": "overlay",
              "size": 10,
              "solidity": 0.2
             }
            },
            "type": "bar"
           }
          ],
          "barpolar": [
           {
            "marker": {
             "line": {
              "color": "#E5ECF6",
              "width": 0.5
             },
             "pattern": {
              "fillmode": "overlay",
              "size": 10,
              "solidity": 0.2
             }
            },
            "type": "barpolar"
           }
          ],
          "carpet": [
           {
            "aaxis": {
             "endlinecolor": "#2a3f5f",
             "gridcolor": "white",
             "linecolor": "white",
             "minorgridcolor": "white",
             "startlinecolor": "#2a3f5f"
            },
            "baxis": {
             "endlinecolor": "#2a3f5f",
             "gridcolor": "white",
             "linecolor": "white",
             "minorgridcolor": "white",
             "startlinecolor": "#2a3f5f"
            },
            "type": "carpet"
           }
          ],
          "choropleth": [
           {
            "colorbar": {
             "outlinewidth": 0,
             "ticks": ""
            },
            "type": "choropleth"
           }
          ],
          "contour": [
           {
            "colorbar": {
             "outlinewidth": 0,
             "ticks": ""
            },
            "colorscale": [
             [
              0,
              "#0d0887"
             ],
             [
              0.1111111111111111,
              "#46039f"
             ],
             [
              0.2222222222222222,
              "#7201a8"
             ],
             [
              0.3333333333333333,
              "#9c179e"
             ],
             [
              0.4444444444444444,
              "#bd3786"
             ],
             [
              0.5555555555555556,
              "#d8576b"
             ],
             [
              0.6666666666666666,
              "#ed7953"
             ],
             [
              0.7777777777777778,
              "#fb9f3a"
             ],
             [
              0.8888888888888888,
              "#fdca26"
             ],
             [
              1,
              "#f0f921"
             ]
            ],
            "type": "contour"
           }
          ],
          "contourcarpet": [
           {
            "colorbar": {
             "outlinewidth": 0,
             "ticks": ""
            },
            "type": "contourcarpet"
           }
          ],
          "heatmap": [
           {
            "colorbar": {
             "outlinewidth": 0,
             "ticks": ""
            },
            "colorscale": [
             [
              0,
              "#0d0887"
             ],
             [
              0.1111111111111111,
              "#46039f"
             ],
             [
              0.2222222222222222,
              "#7201a8"
             ],
             [
              0.3333333333333333,
              "#9c179e"
             ],
             [
              0.4444444444444444,
              "#bd3786"
             ],
             [
              0.5555555555555556,
              "#d8576b"
             ],
             [
              0.6666666666666666,
              "#ed7953"
             ],
             [
              0.7777777777777778,
              "#fb9f3a"
             ],
             [
              0.8888888888888888,
              "#fdca26"
             ],
             [
              1,
              "#f0f921"
             ]
            ],
            "type": "heatmap"
           }
          ],
          "heatmapgl": [
           {
            "colorbar": {
             "outlinewidth": 0,
             "ticks": ""
            },
            "colorscale": [
             [
              0,
              "#0d0887"
             ],
             [
              0.1111111111111111,
              "#46039f"
             ],
             [
              0.2222222222222222,
              "#7201a8"
             ],
             [
              0.3333333333333333,
              "#9c179e"
             ],
             [
              0.4444444444444444,
              "#bd3786"
             ],
             [
              0.5555555555555556,
              "#d8576b"
             ],
             [
              0.6666666666666666,
              "#ed7953"
             ],
             [
              0.7777777777777778,
              "#fb9f3a"
             ],
             [
              0.8888888888888888,
              "#fdca26"
             ],
             [
              1,
              "#f0f921"
             ]
            ],
            "type": "heatmapgl"
           }
          ],
          "histogram": [
           {
            "marker": {
             "pattern": {
              "fillmode": "overlay",
              "size": 10,
              "solidity": 0.2
             }
            },
            "type": "histogram"
           }
          ],
          "histogram2d": [
           {
            "colorbar": {
             "outlinewidth": 0,
             "ticks": ""
            },
            "colorscale": [
             [
              0,
              "#0d0887"
             ],
             [
              0.1111111111111111,
              "#46039f"
             ],
             [
              0.2222222222222222,
              "#7201a8"
             ],
             [
              0.3333333333333333,
              "#9c179e"
             ],
             [
              0.4444444444444444,
              "#bd3786"
             ],
             [
              0.5555555555555556,
              "#d8576b"
             ],
             [
              0.6666666666666666,
              "#ed7953"
             ],
             [
              0.7777777777777778,
              "#fb9f3a"
             ],
             [
              0.8888888888888888,
              "#fdca26"
             ],
             [
              1,
              "#f0f921"
             ]
            ],
            "type": "histogram2d"
           }
          ],
          "histogram2dcontour": [
           {
            "colorbar": {
             "outlinewidth": 0,
             "ticks": ""
            },
            "colorscale": [
             [
              0,
              "#0d0887"
             ],
             [
              0.1111111111111111,
              "#46039f"
             ],
             [
              0.2222222222222222,
              "#7201a8"
             ],
             [
              0.3333333333333333,
              "#9c179e"
             ],
             [
              0.4444444444444444,
              "#bd3786"
             ],
             [
              0.5555555555555556,
              "#d8576b"
             ],
             [
              0.6666666666666666,
              "#ed7953"
             ],
             [
              0.7777777777777778,
              "#fb9f3a"
             ],
             [
              0.8888888888888888,
              "#fdca26"
             ],
             [
              1,
              "#f0f921"
             ]
            ],
            "type": "histogram2dcontour"
           }
          ],
          "mesh3d": [
           {
            "colorbar": {
             "outlinewidth": 0,
             "ticks": ""
            },
            "type": "mesh3d"
           }
          ],
          "parcoords": [
           {
            "line": {
             "colorbar": {
              "outlinewidth": 0,
              "ticks": ""
             }
            },
            "type": "parcoords"
           }
          ],
          "pie": [
           {
            "automargin": true,
            "type": "pie"
           }
          ],
          "scatter": [
           {
            "marker": {
             "colorbar": {
              "outlinewidth": 0,
              "ticks": ""
             }
            },
            "type": "scatter"
           }
          ],
          "scatter3d": [
           {
            "line": {
             "colorbar": {
              "outlinewidth": 0,
              "ticks": ""
             }
            },
            "marker": {
             "colorbar": {
              "outlinewidth": 0,
              "ticks": ""
             }
            },
            "type": "scatter3d"
           }
          ],
          "scattercarpet": [
           {
            "marker": {
             "colorbar": {
              "outlinewidth": 0,
              "ticks": ""
             }
            },
            "type": "scattercarpet"
           }
          ],
          "scattergeo": [
           {
            "marker": {
             "colorbar": {
              "outlinewidth": 0,
              "ticks": ""
             }
            },
            "type": "scattergeo"
           }
          ],
          "scattergl": [
           {
            "marker": {
             "colorbar": {
              "outlinewidth": 0,
              "ticks": ""
             }
            },
            "type": "scattergl"
           }
          ],
          "scattermapbox": [
           {
            "marker": {
             "colorbar": {
              "outlinewidth": 0,
              "ticks": ""
             }
            },
            "type": "scattermapbox"
           }
          ],
          "scatterpolar": [
           {
            "marker": {
             "colorbar": {
              "outlinewidth": 0,
              "ticks": ""
             }
            },
            "type": "scatterpolar"
           }
          ],
          "scatterpolargl": [
           {
            "marker": {
             "colorbar": {
              "outlinewidth": 0,
              "ticks": ""
             }
            },
            "type": "scatterpolargl"
           }
          ],
          "scatterternary": [
           {
            "marker": {
             "colorbar": {
              "outlinewidth": 0,
              "ticks": ""
             }
            },
            "type": "scatterternary"
           }
          ],
          "surface": [
           {
            "colorbar": {
             "outlinewidth": 0,
             "ticks": ""
            },
            "colorscale": [
             [
              0,
              "#0d0887"
             ],
             [
              0.1111111111111111,
              "#46039f"
             ],
             [
              0.2222222222222222,
              "#7201a8"
             ],
             [
              0.3333333333333333,
              "#9c179e"
             ],
             [
              0.4444444444444444,
              "#bd3786"
             ],
             [
              0.5555555555555556,
              "#d8576b"
             ],
             [
              0.6666666666666666,
              "#ed7953"
             ],
             [
              0.7777777777777778,
              "#fb9f3a"
             ],
             [
              0.8888888888888888,
              "#fdca26"
             ],
             [
              1,
              "#f0f921"
             ]
            ],
            "type": "surface"
           }
          ],
          "table": [
           {
            "cells": {
             "fill": {
              "color": "#EBF0F8"
             },
             "line": {
              "color": "white"
             }
            },
            "header": {
             "fill": {
              "color": "#C8D4E3"
             },
             "line": {
              "color": "white"
             }
            },
            "type": "table"
           }
          ]
         },
         "layout": {
          "annotationdefaults": {
           "arrowcolor": "#2a3f5f",
           "arrowhead": 0,
           "arrowwidth": 1
          },
          "autotypenumbers": "strict",
          "coloraxis": {
           "colorbar": {
            "outlinewidth": 0,
            "ticks": ""
           }
          },
          "colorscale": {
           "diverging": [
            [
             0,
             "#8e0152"
            ],
            [
             0.1,
             "#c51b7d"
            ],
            [
             0.2,
             "#de77ae"
            ],
            [
             0.3,
             "#f1b6da"
            ],
            [
             0.4,
             "#fde0ef"
            ],
            [
             0.5,
             "#f7f7f7"
            ],
            [
             0.6,
             "#e6f5d0"
            ],
            [
             0.7,
             "#b8e186"
            ],
            [
             0.8,
             "#7fbc41"
            ],
            [
             0.9,
             "#4d9221"
            ],
            [
             1,
             "#276419"
            ]
           ],
           "sequential": [
            [
             0,
             "#0d0887"
            ],
            [
             0.1111111111111111,
             "#46039f"
            ],
            [
             0.2222222222222222,
             "#7201a8"
            ],
            [
             0.3333333333333333,
             "#9c179e"
            ],
            [
             0.4444444444444444,
             "#bd3786"
            ],
            [
             0.5555555555555556,
             "#d8576b"
            ],
            [
             0.6666666666666666,
             "#ed7953"
            ],
            [
             0.7777777777777778,
             "#fb9f3a"
            ],
            [
             0.8888888888888888,
             "#fdca26"
            ],
            [
             1,
             "#f0f921"
            ]
           ],
           "sequentialminus": [
            [
             0,
             "#0d0887"
            ],
            [
             0.1111111111111111,
             "#46039f"
            ],
            [
             0.2222222222222222,
             "#7201a8"
            ],
            [
             0.3333333333333333,
             "#9c179e"
            ],
            [
             0.4444444444444444,
             "#bd3786"
            ],
            [
             0.5555555555555556,
             "#d8576b"
            ],
            [
             0.6666666666666666,
             "#ed7953"
            ],
            [
             0.7777777777777778,
             "#fb9f3a"
            ],
            [
             0.8888888888888888,
             "#fdca26"
            ],
            [
             1,
             "#f0f921"
            ]
           ]
          },
          "colorway": [
           "#636efa",
           "#EF553B",
           "#00cc96",
           "#ab63fa",
           "#FFA15A",
           "#19d3f3",
           "#FF6692",
           "#B6E880",
           "#FF97FF",
           "#FECB52"
          ],
          "font": {
           "color": "#2a3f5f"
          },
          "geo": {
           "bgcolor": "white",
           "lakecolor": "white",
           "landcolor": "#E5ECF6",
           "showlakes": true,
           "showland": true,
           "subunitcolor": "white"
          },
          "hoverlabel": {
           "align": "left"
          },
          "hovermode": "closest",
          "mapbox": {
           "style": "light"
          },
          "paper_bgcolor": "white",
          "plot_bgcolor": "#E5ECF6",
          "polar": {
           "angularaxis": {
            "gridcolor": "white",
            "linecolor": "white",
            "ticks": ""
           },
           "bgcolor": "#E5ECF6",
           "radialaxis": {
            "gridcolor": "white",
            "linecolor": "white",
            "ticks": ""
           }
          },
          "scene": {
           "xaxis": {
            "backgroundcolor": "#E5ECF6",
            "gridcolor": "white",
            "gridwidth": 2,
            "linecolor": "white",
            "showbackground": true,
            "ticks": "",
            "zerolinecolor": "white"
           },
           "yaxis": {
            "backgroundcolor": "#E5ECF6",
            "gridcolor": "white",
            "gridwidth": 2,
            "linecolor": "white",
            "showbackground": true,
            "ticks": "",
            "zerolinecolor": "white"
           },
           "zaxis": {
            "backgroundcolor": "#E5ECF6",
            "gridcolor": "white",
            "gridwidth": 2,
            "linecolor": "white",
            "showbackground": true,
            "ticks": "",
            "zerolinecolor": "white"
           }
          },
          "shapedefaults": {
           "line": {
            "color": "#2a3f5f"
           }
          },
          "ternary": {
           "aaxis": {
            "gridcolor": "white",
            "linecolor": "white",
            "ticks": ""
           },
           "baxis": {
            "gridcolor": "white",
            "linecolor": "white",
            "ticks": ""
           },
           "bgcolor": "#E5ECF6",
           "caxis": {
            "gridcolor": "white",
            "linecolor": "white",
            "ticks": ""
           }
          },
          "title": {
           "x": 0.05
          },
          "xaxis": {
           "automargin": true,
           "gridcolor": "white",
           "linecolor": "white",
           "ticks": "",
           "title": {
            "standoff": 15
           },
           "zerolinecolor": "white",
           "zerolinewidth": 2
          },
          "yaxis": {
           "automargin": true,
           "gridcolor": "white",
           "linecolor": "white",
           "ticks": "",
           "title": {
            "standoff": 15
           },
           "zerolinecolor": "white",
           "zerolinewidth": 2
          }
         }
        },
        "xaxis": {
         "anchor": "y",
         "domain": [
          0,
          1
         ],
         "title": {
          "text": "Rank"
         }
        },
        "yaxis": {
         "anchor": "x",
         "domain": [
          0,
          1
         ],
         "title": {
          "text": "Happiness levels(Country)"
         }
        }
       }
      },
      "text/html": [
       "<div>                            <div id=\"e9c2f143-bdd4-4f49-bae8-a66465da611c\" class=\"plotly-graph-div\" style=\"height:525px; width:100%;\"></div>            <script type=\"text/javascript\">                require([\"plotly\"], function(Plotly) {                    window.PLOTLYENV=window.PLOTLYENV || {};                                    if (document.getElementById(\"e9c2f143-bdd4-4f49-bae8-a66465da611c\")) {                    Plotly.newPlot(                        \"e9c2f143-bdd4-4f49-bae8-a66465da611c\",                        [{\"customdata\":[[\"Amsterdam\"],[\"Sydney\"],[\"Vienna\"],[\"Stockholm\"],[\"Copenhagen\"],[\"Helsinki\"],[\"Fukuoka\"],[\"Berlin\"],[\"Barcelona\"],[\"Vancouver\"],[\"Melbourne\"],[\"Beijing\"],[\"Bangkok\"],[\"Buenos Aires\"],[\"Toronto\"],[\"Madrid\"],[\"Jakarta\"],[\"Seoul\"],[\"Frankfurt\"],[\"Geneva\"],[\"Tel Aviv\"],[\"Istanbul\"],[\"Cairo\"],[\"Taipei\"],[\"Los Angeles\"],[\"Mumbai\"],[\"Boston\"],[\"Dublin\"],[\"Tokyo\"],[\"Chicago\"],[\"Hong Kong\"],[\"Shanghai\"],[\"Brussels\"],[\"San Francisco\"],[\"Paris\"],[\"Sao Paulo\"],[\"Zurich\"],[\"London\"],[\"Johannesburg\"],[\"Milan\"],[\"Washington, D.C.\"],[\"New York\"],[\"Moscow\"],[\"Mexico City\"]],\"hovertemplate\":\"Rank=%{x}<br>Happiness levels(Country)=%{y}<br>City=%{customdata[0]}<extra></extra>\",\"legendgroup\":\"\",\"line\":{\"color\":\"#636efa\",\"dash\":\"solid\"},\"marker\":{\"symbol\":\"circle\"},\"mode\":\"lines\",\"name\":\"\",\"orientation\":\"v\",\"showlegend\":false,\"x\":[1,2,3,4,5,6,7,8,9,10,11,12,13,14,15,16,17,18,19,20,21,22,23,24,25,26,27,28,29,30,31,32,33,34,35,36,37,38,39,40,41,42,43,44],\"xaxis\":\"x\",\"y\":[7.44,7.22,7.29,7.35,7.64,7.8,5.87,7.07,6.4,7.23,7.22,5.12,5.99,5.97,7.23,6.4,5.28,5.87,7.07,7.56,7.12,5.13,4.15,5.12,6.94,3.57,6.94,7.09,5.87,6.94,5.51,5.12,6.86,6.94,6.66,6.37,7.56,7.16,4.81,6.38,6.94,6.94,5.54,6.46],\"yaxis\":\"y\",\"type\":\"scatter\"}],                        {\"template\":{\"data\":{\"bar\":[{\"error_x\":{\"color\":\"#2a3f5f\"},\"error_y\":{\"color\":\"#2a3f5f\"},\"marker\":{\"line\":{\"color\":\"#E5ECF6\",\"width\":0.5},\"pattern\":{\"fillmode\":\"overlay\",\"size\":10,\"solidity\":0.2}},\"type\":\"bar\"}],\"barpolar\":[{\"marker\":{\"line\":{\"color\":\"#E5ECF6\",\"width\":0.5},\"pattern\":{\"fillmode\":\"overlay\",\"size\":10,\"solidity\":0.2}},\"type\":\"barpolar\"}],\"carpet\":[{\"aaxis\":{\"endlinecolor\":\"#2a3f5f\",\"gridcolor\":\"white\",\"linecolor\":\"white\",\"minorgridcolor\":\"white\",\"startlinecolor\":\"#2a3f5f\"},\"baxis\":{\"endlinecolor\":\"#2a3f5f\",\"gridcolor\":\"white\",\"linecolor\":\"white\",\"minorgridcolor\":\"white\",\"startlinecolor\":\"#2a3f5f\"},\"type\":\"carpet\"}],\"choropleth\":[{\"colorbar\":{\"outlinewidth\":0,\"ticks\":\"\"},\"type\":\"choropleth\"}],\"contour\":[{\"colorbar\":{\"outlinewidth\":0,\"ticks\":\"\"},\"colorscale\":[[0.0,\"#0d0887\"],[0.1111111111111111,\"#46039f\"],[0.2222222222222222,\"#7201a8\"],[0.3333333333333333,\"#9c179e\"],[0.4444444444444444,\"#bd3786\"],[0.5555555555555556,\"#d8576b\"],[0.6666666666666666,\"#ed7953\"],[0.7777777777777778,\"#fb9f3a\"],[0.8888888888888888,\"#fdca26\"],[1.0,\"#f0f921\"]],\"type\":\"contour\"}],\"contourcarpet\":[{\"colorbar\":{\"outlinewidth\":0,\"ticks\":\"\"},\"type\":\"contourcarpet\"}],\"heatmap\":[{\"colorbar\":{\"outlinewidth\":0,\"ticks\":\"\"},\"colorscale\":[[0.0,\"#0d0887\"],[0.1111111111111111,\"#46039f\"],[0.2222222222222222,\"#7201a8\"],[0.3333333333333333,\"#9c179e\"],[0.4444444444444444,\"#bd3786\"],[0.5555555555555556,\"#d8576b\"],[0.6666666666666666,\"#ed7953\"],[0.7777777777777778,\"#fb9f3a\"],[0.8888888888888888,\"#fdca26\"],[1.0,\"#f0f921\"]],\"type\":\"heatmap\"}],\"heatmapgl\":[{\"colorbar\":{\"outlinewidth\":0,\"ticks\":\"\"},\"colorscale\":[[0.0,\"#0d0887\"],[0.1111111111111111,\"#46039f\"],[0.2222222222222222,\"#7201a8\"],[0.3333333333333333,\"#9c179e\"],[0.4444444444444444,\"#bd3786\"],[0.5555555555555556,\"#d8576b\"],[0.6666666666666666,\"#ed7953\"],[0.7777777777777778,\"#fb9f3a\"],[0.8888888888888888,\"#fdca26\"],[1.0,\"#f0f921\"]],\"type\":\"heatmapgl\"}],\"histogram\":[{\"marker\":{\"pattern\":{\"fillmode\":\"overlay\",\"size\":10,\"solidity\":0.2}},\"type\":\"histogram\"}],\"histogram2d\":[{\"colorbar\":{\"outlinewidth\":0,\"ticks\":\"\"},\"colorscale\":[[0.0,\"#0d0887\"],[0.1111111111111111,\"#46039f\"],[0.2222222222222222,\"#7201a8\"],[0.3333333333333333,\"#9c179e\"],[0.4444444444444444,\"#bd3786\"],[0.5555555555555556,\"#d8576b\"],[0.6666666666666666,\"#ed7953\"],[0.7777777777777778,\"#fb9f3a\"],[0.8888888888888888,\"#fdca26\"],[1.0,\"#f0f921\"]],\"type\":\"histogram2d\"}],\"histogram2dcontour\":[{\"colorbar\":{\"outlinewidth\":0,\"ticks\":\"\"},\"colorscale\":[[0.0,\"#0d0887\"],[0.1111111111111111,\"#46039f\"],[0.2222222222222222,\"#7201a8\"],[0.3333333333333333,\"#9c179e\"],[0.4444444444444444,\"#bd3786\"],[0.5555555555555556,\"#d8576b\"],[0.6666666666666666,\"#ed7953\"],[0.7777777777777778,\"#fb9f3a\"],[0.8888888888888888,\"#fdca26\"],[1.0,\"#f0f921\"]],\"type\":\"histogram2dcontour\"}],\"mesh3d\":[{\"colorbar\":{\"outlinewidth\":0,\"ticks\":\"\"},\"type\":\"mesh3d\"}],\"parcoords\":[{\"line\":{\"colorbar\":{\"outlinewidth\":0,\"ticks\":\"\"}},\"type\":\"parcoords\"}],\"pie\":[{\"automargin\":true,\"type\":\"pie\"}],\"scatter\":[{\"marker\":{\"colorbar\":{\"outlinewidth\":0,\"ticks\":\"\"}},\"type\":\"scatter\"}],\"scatter3d\":[{\"line\":{\"colorbar\":{\"outlinewidth\":0,\"ticks\":\"\"}},\"marker\":{\"colorbar\":{\"outlinewidth\":0,\"ticks\":\"\"}},\"type\":\"scatter3d\"}],\"scattercarpet\":[{\"marker\":{\"colorbar\":{\"outlinewidth\":0,\"ticks\":\"\"}},\"type\":\"scattercarpet\"}],\"scattergeo\":[{\"marker\":{\"colorbar\":{\"outlinewidth\":0,\"ticks\":\"\"}},\"type\":\"scattergeo\"}],\"scattergl\":[{\"marker\":{\"colorbar\":{\"outlinewidth\":0,\"ticks\":\"\"}},\"type\":\"scattergl\"}],\"scattermapbox\":[{\"marker\":{\"colorbar\":{\"outlinewidth\":0,\"ticks\":\"\"}},\"type\":\"scattermapbox\"}],\"scatterpolar\":[{\"marker\":{\"colorbar\":{\"outlinewidth\":0,\"ticks\":\"\"}},\"type\":\"scatterpolar\"}],\"scatterpolargl\":[{\"marker\":{\"colorbar\":{\"outlinewidth\":0,\"ticks\":\"\"}},\"type\":\"scatterpolargl\"}],\"scatterternary\":[{\"marker\":{\"colorbar\":{\"outlinewidth\":0,\"ticks\":\"\"}},\"type\":\"scatterternary\"}],\"surface\":[{\"colorbar\":{\"outlinewidth\":0,\"ticks\":\"\"},\"colorscale\":[[0.0,\"#0d0887\"],[0.1111111111111111,\"#46039f\"],[0.2222222222222222,\"#7201a8\"],[0.3333333333333333,\"#9c179e\"],[0.4444444444444444,\"#bd3786\"],[0.5555555555555556,\"#d8576b\"],[0.6666666666666666,\"#ed7953\"],[0.7777777777777778,\"#fb9f3a\"],[0.8888888888888888,\"#fdca26\"],[1.0,\"#f0f921\"]],\"type\":\"surface\"}],\"table\":[{\"cells\":{\"fill\":{\"color\":\"#EBF0F8\"},\"line\":{\"color\":\"white\"}},\"header\":{\"fill\":{\"color\":\"#C8D4E3\"},\"line\":{\"color\":\"white\"}},\"type\":\"table\"}]},\"layout\":{\"annotationdefaults\":{\"arrowcolor\":\"#2a3f5f\",\"arrowhead\":0,\"arrowwidth\":1},\"autotypenumbers\":\"strict\",\"coloraxis\":{\"colorbar\":{\"outlinewidth\":0,\"ticks\":\"\"}},\"colorscale\":{\"diverging\":[[0,\"#8e0152\"],[0.1,\"#c51b7d\"],[0.2,\"#de77ae\"],[0.3,\"#f1b6da\"],[0.4,\"#fde0ef\"],[0.5,\"#f7f7f7\"],[0.6,\"#e6f5d0\"],[0.7,\"#b8e186\"],[0.8,\"#7fbc41\"],[0.9,\"#4d9221\"],[1,\"#276419\"]],\"sequential\":[[0.0,\"#0d0887\"],[0.1111111111111111,\"#46039f\"],[0.2222222222222222,\"#7201a8\"],[0.3333333333333333,\"#9c179e\"],[0.4444444444444444,\"#bd3786\"],[0.5555555555555556,\"#d8576b\"],[0.6666666666666666,\"#ed7953\"],[0.7777777777777778,\"#fb9f3a\"],[0.8888888888888888,\"#fdca26\"],[1.0,\"#f0f921\"]],\"sequentialminus\":[[0.0,\"#0d0887\"],[0.1111111111111111,\"#46039f\"],[0.2222222222222222,\"#7201a8\"],[0.3333333333333333,\"#9c179e\"],[0.4444444444444444,\"#bd3786\"],[0.5555555555555556,\"#d8576b\"],[0.6666666666666666,\"#ed7953\"],[0.7777777777777778,\"#fb9f3a\"],[0.8888888888888888,\"#fdca26\"],[1.0,\"#f0f921\"]]},\"colorway\":[\"#636efa\",\"#EF553B\",\"#00cc96\",\"#ab63fa\",\"#FFA15A\",\"#19d3f3\",\"#FF6692\",\"#B6E880\",\"#FF97FF\",\"#FECB52\"],\"font\":{\"color\":\"#2a3f5f\"},\"geo\":{\"bgcolor\":\"white\",\"lakecolor\":\"white\",\"landcolor\":\"#E5ECF6\",\"showlakes\":true,\"showland\":true,\"subunitcolor\":\"white\"},\"hoverlabel\":{\"align\":\"left\"},\"hovermode\":\"closest\",\"mapbox\":{\"style\":\"light\"},\"paper_bgcolor\":\"white\",\"plot_bgcolor\":\"#E5ECF6\",\"polar\":{\"angularaxis\":{\"gridcolor\":\"white\",\"linecolor\":\"white\",\"ticks\":\"\"},\"bgcolor\":\"#E5ECF6\",\"radialaxis\":{\"gridcolor\":\"white\",\"linecolor\":\"white\",\"ticks\":\"\"}},\"scene\":{\"xaxis\":{\"backgroundcolor\":\"#E5ECF6\",\"gridcolor\":\"white\",\"gridwidth\":2,\"linecolor\":\"white\",\"showbackground\":true,\"ticks\":\"\",\"zerolinecolor\":\"white\"},\"yaxis\":{\"backgroundcolor\":\"#E5ECF6\",\"gridcolor\":\"white\",\"gridwidth\":2,\"linecolor\":\"white\",\"showbackground\":true,\"ticks\":\"\",\"zerolinecolor\":\"white\"},\"zaxis\":{\"backgroundcolor\":\"#E5ECF6\",\"gridcolor\":\"white\",\"gridwidth\":2,\"linecolor\":\"white\",\"showbackground\":true,\"ticks\":\"\",\"zerolinecolor\":\"white\"}},\"shapedefaults\":{\"line\":{\"color\":\"#2a3f5f\"}},\"ternary\":{\"aaxis\":{\"gridcolor\":\"white\",\"linecolor\":\"white\",\"ticks\":\"\"},\"baxis\":{\"gridcolor\":\"white\",\"linecolor\":\"white\",\"ticks\":\"\"},\"bgcolor\":\"#E5ECF6\",\"caxis\":{\"gridcolor\":\"white\",\"linecolor\":\"white\",\"ticks\":\"\"}},\"title\":{\"x\":0.05},\"xaxis\":{\"automargin\":true,\"gridcolor\":\"white\",\"linecolor\":\"white\",\"ticks\":\"\",\"title\":{\"standoff\":15},\"zerolinecolor\":\"white\",\"zerolinewidth\":2},\"yaxis\":{\"automargin\":true,\"gridcolor\":\"white\",\"linecolor\":\"white\",\"ticks\":\"\",\"title\":{\"standoff\":15},\"zerolinecolor\":\"white\",\"zerolinewidth\":2}}},\"xaxis\":{\"anchor\":\"y\",\"domain\":[0.0,1.0],\"title\":{\"text\":\"Rank\"}},\"yaxis\":{\"anchor\":\"x\",\"domain\":[0.0,1.0],\"title\":{\"text\":\"Happiness levels(Country)\"}},\"legend\":{\"tracegroupgap\":0},\"margin\":{\"t\":60}},                        {\"responsive\": true}                    ).then(function(){\n",
       "                            \n",
       "var gd = document.getElementById('e9c2f143-bdd4-4f49-bae8-a66465da611c');\n",
       "var x = new MutationObserver(function (mutations, observer) {{\n",
       "        var display = window.getComputedStyle(gd).display;\n",
       "        if (!display || display === 'none') {{\n",
       "            console.log([gd, 'removed!']);\n",
       "            Plotly.purge(gd);\n",
       "            observer.disconnect();\n",
       "        }}\n",
       "}});\n",
       "\n",
       "// Listen for the removal of the full notebook cells\n",
       "var notebookContainer = gd.closest('#notebook-container');\n",
       "if (notebookContainer) {{\n",
       "    x.observe(notebookContainer, {childList: true});\n",
       "}}\n",
       "\n",
       "// Listen for the clearing of the current output cell\n",
       "var outputEl = gd.closest('.output');\n",
       "if (outputEl) {{\n",
       "    x.observe(outputEl, {childList: true});\n",
       "}}\n",
       "\n",
       "                        })                };                });            </script>        </div>"
      ]
     },
     "metadata": {},
     "output_type": "display_data"
    }
   ],
   "source": [
    "fig1 = px.line(df, x='Rank', y='Happiness levels(Country)', hover_data=['City'])\n",
    "fig1.show()"
   ]
  },
  {
   "cell_type": "markdown",
   "id": "ee996c28",
   "metadata": {},
   "source": [
    "<div class=\"alert alert-block alert-info\">\n",
    "<b>Observation:</b> Happiness Level goes up and down with Ranking, therefore, there isn't any proper relationship.\n",
    "</div>"
   ]
  },
  {
   "cell_type": "markdown",
   "id": "150b3c57",
   "metadata": {},
   "source": [
    "**"
   ]
  }
 ],
 "metadata": {
  "kernelspec": {
   "display_name": "Python 3 (ipykernel)",
   "language": "python",
   "name": "python3"
  },
  "language_info": {
   "codemirror_mode": {
    "name": "ipython",
    "version": 3
   },
   "file_extension": ".py",
   "mimetype": "text/x-python",
   "name": "python",
   "nbconvert_exporter": "python",
   "pygments_lexer": "ipython3",
   "version": "3.10.2"
  }
 },
 "nbformat": 4,
 "nbformat_minor": 5
}
